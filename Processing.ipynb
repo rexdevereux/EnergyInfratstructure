{
 "cells": [
  {
   "cell_type": "code",
   "execution_count": 2,
   "metadata": {},
   "outputs": [
    {
     "name": "stdout",
     "output_type": "stream",
     "text": [
      "Saved filtered_geojson/platforms_wellpads_ca.geojson\n",
      "Saved filtered_geojson/ports_ca.geojson\n",
      "Saved filtered_geojson/ports_ru.geojson\n",
      "Saved filtered_geojson/pipelines_ca.geojson\n",
      "Saved filtered_geojson/pipelines_ru.geojson\n",
      "Saved filtered_geojson/mines_ca.geojson\n",
      "Saved filtered_geojson/mines_ru.geojson\n",
      "Saved filtered_geojson/railways_ca.geojson\n",
      "Saved filtered_geojson/railways_ru.geojson\n",
      "Saved filtered_geojson/processsing_plants_ca.geojson\n",
      "Saved filtered_geojson/processsing_plants_ru.geojson\n",
      "Saved filtered_geojson/basins_ca.geojson\n",
      "Saved filtered_geojson/basins_ru.geojson\n",
      "Saved filtered_geojson/refineries_ca.geojson\n",
      "Saved filtered_geojson/refineries_ru.geojson\n",
      "Saved filtered_geojson/lng_ca.geojson\n",
      "Saved filtered_geojson/lng_ru.geojson\n",
      "Saved filtered_geojson/powerplants_ca.geojson\n",
      "Saved filtered_geojson/powerplants_ru.geojson\n"
     ]
    }
   ],
   "source": [
    "import os\n",
    "import geopandas as gpd\n",
    "\n",
    "# Define the full path to the folder where your GeoJSON files are located\n",
    "input_folder = 'ogdata'\n",
    "output_folder = 'filtered_geojson'\n",
    "\n",
    "# Ensure the output folder exists\n",
    "os.makedirs(output_folder, exist_ok=True)\n",
    "\n",
    "# List of countries you want to filter by (you can add more as needed)\n",
    "countries = {\n",
    "    'Canada': '_ca',\n",
    "    'Russian Federation': '_ru',\n",
    "    # Add more countries and their corresponding suffixes as needed\n",
    "}\n",
    "\n",
    "# Loop through each file in the input folder\n",
    "for filename in os.listdir(input_folder):\n",
    "    if filename.endswith('.geojson'):\n",
    "        # Read the GeoJSON file into a GeoDataFrame\n",
    "        filepath = os.path.join(input_folder, filename)\n",
    "        gdf = gpd.read_file(filepath)\n",
    "        \n",
    "        # Loop through each country in the countries dictionary\n",
    "        for country, suffix in countries.items():\n",
    "            # Filter the GeoDataFrame by country\n",
    "            filtered_gdf = gdf[gdf['MD_Country'] == country]\n",
    "            \n",
    "            # Check if there is any data to save\n",
    "            if not filtered_gdf.empty:\n",
    "                # Construct the output filename\n",
    "                output_filename = f\"{os.path.splitext(filename)[0]}{suffix}.geojson\"\n",
    "                output_filepath = os.path.join(output_folder, output_filename)\n",
    "                \n",
    "                # Save the filtered GeoDataFrame to a new GeoJSON file\n",
    "                filtered_gdf.to_file(output_filepath, driver='GeoJSON')\n",
    "                print(f\"Saved {output_filepath}\")\n"
   ]
  }
 ],
 "metadata": {
  "kernelspec": {
   "display_name": "base",
   "language": "python",
   "name": "python3"
  },
  "language_info": {
   "codemirror_mode": {
    "name": "ipython",
    "version": 3
   },
   "file_extension": ".py",
   "mimetype": "text/x-python",
   "name": "python",
   "nbconvert_exporter": "python",
   "pygments_lexer": "ipython3",
   "version": "3.11.5"
  }
 },
 "nbformat": 4,
 "nbformat_minor": 2
}
